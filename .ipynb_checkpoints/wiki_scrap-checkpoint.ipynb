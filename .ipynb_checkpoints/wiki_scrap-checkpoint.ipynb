{
 "cells": [
  {
   "cell_type": "markdown",
   "id": "ceb20b9a",
   "metadata": {},
   "source": [
    "# 1. Get info box for one movie from Wikipedia"
   ]
  },
  {
   "cell_type": "code",
   "execution_count": 1,
   "id": "dee7eaef",
   "metadata": {},
   "outputs": [],
   "source": [
    "from bs4 import BeautifulSoup as bs\n",
    "import requests"
   ]
  },
  {
   "cell_type": "code",
   "execution_count": 2,
   "id": "29f4eae8",
   "metadata": {},
   "outputs": [],
   "source": [
    "r=requests.get(\"https://en.wikipedia.org/wiki/Pathaan_(film)\")\n",
    "soup=bs(r.content)\n",
    "contents = soup.prettify()\n",
    "# print(contents)"
   ]
  },
  {
   "cell_type": "code",
   "execution_count": 3,
   "id": "69bdab3b",
   "metadata": {},
   "outputs": [],
   "source": [
    "info_box=soup.find(class_=\"infobox vevent\")\n",
    "info_rows=info_box.find_all(\"tr\")\n",
    "\n",
    "# for row in info_rows:\n",
    "#     print(row.prettify())"
   ]
  },
  {
   "cell_type": "code",
   "execution_count": 4,
   "id": "522a00b5",
   "metadata": {},
   "outputs": [],
   "source": [
    "def get_content_value(row_data):\n",
    "    if row_data.find(\"li\"):\n",
    "        return [li.get_text(\" \", strip=True).replace(\"\\xa0\",\" \") for li in row_data.find_all(\"li\")]\n",
    "    else:\n",
    "        return row_data.get_text(\" \", strip=True).replace(\"\\xa0\",\" \")\n",
    "movie_info={}\n",
    "\n",
    "for index,row in enumerate(info_rows):\n",
    "    if index==0 :\n",
    "        movie_info['title']=row.find(\"th\").get_text(\" \", strip=True)\n",
    "    elif index==1:\n",
    "        continue\n",
    "    else:\n",
    "        try:\n",
    "            content_key=row.find(\"th\").get_text(\" \", strip=True)\n",
    "            content_value=get_content_value(row.find(\"td\"))\n",
    "            movie_info[content_key]=content_value\n",
    "        except AttributeError:\n",
    "            continue\n",
    "        \n",
    "        \n",
    "    \n",
    "# print(movie_info)"
   ]
  },
  {
   "cell_type": "markdown",
   "id": "ccf10746",
   "metadata": {},
   "source": [
    "# 2. Get info box for all movies from Wikipedia"
   ]
  },
  {
   "cell_type": "code",
   "execution_count": 5,
   "id": "734a7f30",
   "metadata": {},
   "outputs": [],
   "source": [
    "r=requests.get(\"https://en.wikipedia.org/wiki/List_of_Walt_Disney_Pictures_films\")\n",
    "soup=bs(r.content)\n",
    "contents = soup.prettify()\n",
    "\n",
    "# print(contents)"
   ]
  },
  {
   "cell_type": "code",
   "execution_count": 6,
   "id": "4e372b38",
   "metadata": {},
   "outputs": [
    {
     "data": {
      "text/plain": [
       "'Snow White and the Seven Dwarfs (1937 film)'"
      ]
     },
     "execution_count": 6,
     "metadata": {},
     "output_type": "execute_result"
    }
   ],
   "source": [
    "movies=soup.select(\".wikitable.sortable i\")\n",
    "movies[0:10]\n",
    "movies[0].a['title']"
   ]
  },
  {
   "cell_type": "code",
   "execution_count": 7,
   "id": "27a50357",
   "metadata": {},
   "outputs": [],
   "source": [
    "def get_content_value(row_data):\n",
    "    if row_data.find(\"li\"):\n",
    "        return [li.get_text(\" \", strip=True).replace(\"\\xa0\",\" \") for li in row_data.find_all(\"li\")]\n",
    "    elif row_data.find(\"br\"):\n",
    "        return [text for text in row_data.stripped_strings]\n",
    "        \n",
    "    else:\n",
    "        return row_data.get_text(\" \", strip=True).replace(\"\\xa0\",\" \")\n",
    "\n",
    "def clean(soup):\n",
    "    for tag in soup.find_all([\"sup\", \"span\"]):\n",
    "        tag.decompose()\n",
    "        \n",
    "def get_info_box(url):\n",
    "    r=requests.get(url)\n",
    "    soup=bs(r.content)\n",
    "    \n",
    "    info_box=soup.find(class_=\"infobox vevent\")\n",
    "    info_rows=info_box.find_all(\"tr\")\n",
    "    \n",
    "    clean(soup)\n",
    "    \n",
    "    movie_info={}\n",
    "    \n",
    "    for index,row in enumerate(info_rows):\n",
    "        if index==0 :\n",
    "            movie_info['title']=row.find(\"th\").get_text(\" \", strip=True)\n",
    "        else:\n",
    "            try:\n",
    "                header=row.find('th')\n",
    "                if header:\n",
    "                    content_key=row.find(\"th\").get_text(\" \", strip=True)\n",
    "                    content_value=get_content_value(row.find(\"td\"))\n",
    "                    movie_info[content_key]=content_value\n",
    "                \n",
    "            except AttributeError:\n",
    "                continue\n",
    "    return movie_info\n",
    "\n",
    "\n",
    "    "
   ]
  },
  {
   "cell_type": "code",
   "execution_count": 8,
   "id": "25960d07",
   "metadata": {},
   "outputs": [
    {
     "data": {
      "text/plain": [
       "{'title': 'Davy Crockett: King of the Wild Frontier',\n",
       " 'Directed by': 'Norman Foster',\n",
       " 'Written by': 'Tom Blackburn',\n",
       " 'Produced by': 'Bill Walsh',\n",
       " 'Starring': ['Fess Parker', 'Buddy Ebsen'],\n",
       " 'Cinematography': 'Charles P. Boyle',\n",
       " 'Edited by': 'Chester W. Schaeffer',\n",
       " 'Music by': ['Thomas W. Blackburn (lyrics)',\n",
       "  'George Bruns',\n",
       "  'Edward H. Plumb (orchestration)'],\n",
       " 'Production company': 'Walt Disney Productions',\n",
       " 'Distributed by': 'Buena Vista Film Distribution Co., Inc.',\n",
       " 'Release date': 'May 25, 1955',\n",
       " 'Running time': '93 minutes',\n",
       " 'Country': 'United States',\n",
       " 'Language': 'English',\n",
       " 'Box office': '$2,150,000 (US)'}"
      ]
     },
     "execution_count": 8,
     "metadata": {},
     "output_type": "execute_result"
    }
   ],
   "source": [
    "# testing clean sup\n",
    "get_info_box('https://en.wikipedia.org/wiki/Davy_Crockett:_King_of_the_Wild_Frontier_(film)')"
   ]
  },
  {
   "cell_type": "code",
   "execution_count": null,
   "id": "46810b5f",
   "metadata": {},
   "outputs": [],
   "source": [
    "r=requests.get(\"https://en.wikipedia.org/wiki/List_of_Walt_Disney_Pictures_films\")\n",
    "soup=bs(r.content)\n",
    "movies=soup.select(\".wikitable.sortable i a\")\n",
    "\n",
    "base_path=\"https://en.wikipedia.org/\"\n",
    "\n",
    "movie_info_list=[]\n",
    "for index,movie in enumerate(movies):\n",
    "   \n",
    "    try:\n",
    "        relative_path=movie['href']\n",
    "        \n",
    "        full_path=base_path+relative_path\n",
    "        title=movie['title']\n",
    "        \n",
    "        movie_info_list.append(get_info_box(full_path))\n",
    "        \n",
    "    except Exception as e:\n",
    "        print(movie.get_text())\n",
    "        print(e)\n"
   ]
  },
  {
   "cell_type": "code",
   "execution_count": null,
   "id": "8a3a46cd",
   "metadata": {},
   "outputs": [],
   "source": [
    "len(movie_info_list)"
   ]
  },
  {
   "cell_type": "code",
   "execution_count": null,
   "id": "a4504c6f",
   "metadata": {},
   "outputs": [],
   "source": [
    "import json\n",
    "def save_data(title, data):\n",
    "    with open(title, 'w', encoding='utf-8') as f:\n",
    "        json.dump(data,f,ensure_ascii=False, indent=2)"
   ]
  },
  {
   "cell_type": "code",
   "execution_count": null,
   "id": "9c820ece",
   "metadata": {},
   "outputs": [],
   "source": [
    "import json\n",
    "\n",
    "def load_data(title):\n",
    "    with open(title, encoding=\"utf-8\") as f:\n",
    "        return json.load(f)"
   ]
  },
  {
   "cell_type": "code",
   "execution_count": null,
   "id": "5f3e21ee",
   "metadata": {},
   "outputs": [],
   "source": [
    "save_data(\"wiki_scrap_data.json\", movie_info_list)"
   ]
  },
  {
   "cell_type": "markdown",
   "id": "21feed22",
   "metadata": {},
   "source": [
    "# 3. Clean the data"
   ]
  },
  {
   "cell_type": "code",
   "execution_count": null,
   "id": "fe06e13b",
   "metadata": {},
   "outputs": [],
   "source": [
    "movie_info_list=load_data(\"wiki_scrap_data.json\")"
   ]
  },
  {
   "cell_type": "code",
   "execution_count": null,
   "id": "63014235",
   "metadata": {},
   "outputs": [],
   "source": [
    "movie_info_list[-11]"
   ]
  },
  {
   "cell_type": "markdown",
   "id": "586ae738",
   "metadata": {},
   "source": [
    "## 3.1 Running time clean"
   ]
  },
  {
   "cell_type": "code",
   "execution_count": null,
   "id": "ac91fa49",
   "metadata": {},
   "outputs": [],
   "source": [
    "# [movie.get('Running time','NA') for movie in movie_info_list]"
   ]
  },
  {
   "cell_type": "code",
   "execution_count": null,
   "id": "c21d5651",
   "metadata": {},
   "outputs": [],
   "source": [
    "def min_to_intr(running_time):\n",
    "    if running_time == \"NA\":\n",
    "        return None\n",
    "    \n",
    "    if isinstance(running_time, list):\n",
    "        entry=running_time[0]\n",
    "        entry.replace(\"–\",\" \")\n",
    "        return int(entry.split(\" \")[0])\n",
    "    else:\n",
    "        return int(running_time.replace(\"–\",\" \").split(\" \")[0])\n",
    "        \n",
    "    \n",
    "\n",
    "for movie in movie_info_list:\n",
    "    movie['Running time (int)']=min_to_intr(movie.get(\"Running time\", \"NA\"))"
   ]
  },
  {
   "cell_type": "code",
   "execution_count": null,
   "id": "760fc741",
   "metadata": {},
   "outputs": [],
   "source": [
    "# print([movie.get('Running time (int)','NA') for movie in movie_info_list])"
   ]
  },
  {
   "cell_type": "markdown",
   "id": "4996eb05",
   "metadata": {},
   "source": [
    "## 3.2 Budget & BoxOffice clean"
   ]
  },
  {
   "cell_type": "code",
   "execution_count": null,
   "id": "1fafe0fd",
   "metadata": {},
   "outputs": [],
   "source": [
    "# print([movie.get(\"Budget\",\"NA\") for movie in movie_info_list])"
   ]
  },
  {
   "cell_type": "code",
   "execution_count": null,
   "id": "5f4f63a3",
   "metadata": {},
   "outputs": [],
   "source": [
    "import re\n",
    "\n",
    "amounts= r\"thousand|million|billion\"\n",
    "number= r\"\\d+(,\\d{3})*\\.*\\d*\"\n",
    "word_re= rf\"\\${number}(-|\\sto\\s|–)?({number})?\\s({amounts})\"\n",
    "value_re= rf\"\\${number}\"\n",
    "\n",
    "def word_to_value(word):\n",
    "    value_dict={\"thousand\":1000, \"million\": 1000000, \"billion\":1000000000}\n",
    "    return value_dict[word]\n",
    "\n",
    "def parse_word_syntax(string):\n",
    "    value_string=re.search(number, string).group()\n",
    "    value=float(value_string.replace(\",\",\"\"))\n",
    "    word=re.search(amounts, string, flags=re.I).group().lower()\n",
    "    word_value=word_to_value(word)\n",
    "    return value*word_value\n",
    "\n",
    "def parse_val_syntax(string):\n",
    "    value_str=re.search(number,string).group()\n",
    "    value=float(value_str.replace(\",\",\"\"))\n",
    "    return value\n",
    "\n",
    "def money_conversion(money):\n",
    "    if money==\"NA\":\n",
    "        return None\n",
    "    \n",
    "    if isinstance(money, list):\n",
    "        money=money[0]\n",
    "    word_syntax=re.search(word_re, money, flags=re.I)\n",
    "    val_syntax=re.search(value_re, money)\n",
    "    if word_syntax:\n",
    "        return parse_word_syntax(word_syntax.group())\n",
    "    elif val_syntax:\n",
    "        return parse_val_syntax(val_syntax.group())\n",
    "    else:\n",
    "        return None"
   ]
  },
  {
   "cell_type": "code",
   "execution_count": null,
   "id": "bb1db86c",
   "metadata": {},
   "outputs": [],
   "source": [
    "for movie in movie_info_list:\n",
    "    movie['Budget (float)']=money_conversion(movie.get(\"Budget\", \"NA\"))\n",
    "    movie['Box office (float)']=money_conversion(movie.get(\"Box office\", \"NA\"))"
   ]
  },
  {
   "cell_type": "code",
   "execution_count": null,
   "id": "d38319ff",
   "metadata": {},
   "outputs": [],
   "source": [
    "movie_info_list[1]"
   ]
  },
  {
   "cell_type": "markdown",
   "id": "114cfc7d",
   "metadata": {},
   "source": [
    "## 3.3 Date clean"
   ]
  },
  {
   "cell_type": "code",
   "execution_count": null,
   "id": "f1a9011d",
   "metadata": {},
   "outputs": [],
   "source": [
    "# print([movie.get(\"Release date\", \"NA\") for movie in movie_info_list])"
   ]
  },
  {
   "cell_type": "code",
   "execution_count": null,
   "id": "4404fc93",
   "metadata": {},
   "outputs": [],
   "source": [
    "from datetime import datetime\n",
    "\n",
    "dates=[movie.get(\"Release date\", \"NA\") for movie in movie_info_list]\n",
    "\n",
    "def clean_date(date):\n",
    "    return date.split(\"(\")[0].strip()\n",
    "\n",
    "def date_conv(date):\n",
    "    if isinstance(date, list):\n",
    "        date=date[0]\n",
    "    if date==\"NA\":\n",
    "        return None\n",
    "    date_str=clean_date(date)\n",
    "    \n",
    "    formats=[\"%B %d, %Y\", \"%d %B %Y\"]\n",
    "    \n",
    "    for form in formats:\n",
    "        try:\n",
    "            return datetime.strptime(date_str, form)\n",
    "        except:\n",
    "            pass\n",
    "    return None\n",
    "    "
   ]
  },
  {
   "cell_type": "code",
   "execution_count": null,
   "id": "6f4b6cf3",
   "metadata": {},
   "outputs": [],
   "source": [
    "for movie in movie_info_list:\n",
    "    if movie.get(\"Release date\"):\n",
    "            movie['Release date (datetime)']=date_conv(movie.get(\"Release date\", \"NA\"))\n",
    "    else:\n",
    "            movie['Release date (datetime)']=date_conv(movie.get(\"Release dates\", \"NA\"))"
   ]
  },
  {
   "cell_type": "code",
   "execution_count": null,
   "id": "60345ba8",
   "metadata": {},
   "outputs": [],
   "source": [
    "movie_info_list[100]"
   ]
  },
  {
   "cell_type": "code",
   "execution_count": null,
   "id": "8a33a3b0",
   "metadata": {},
   "outputs": [],
   "source": [
    "#save data using pickle\n",
    "\n",
    "import pickle\n",
    "\n",
    "def save_pickle(name,data):\n",
    "    with open(name, \"wb\") as f:\n",
    "        pickle.dump(data,f)"
   ]
  },
  {
   "cell_type": "code",
   "execution_count": null,
   "id": "18c2a482",
   "metadata": {},
   "outputs": [],
   "source": [
    "import pickle\n",
    "\n",
    "def load_pickle(name):\n",
    "    with open(name, \"rb\") as f:\n",
    "        return pickle.load(f)"
   ]
  },
  {
   "cell_type": "code",
   "execution_count": null,
   "id": "2a4228f0",
   "metadata": {},
   "outputs": [],
   "source": [
    "save_pickle(\"wiki_scrap_clean.pickle\", movie_info_list)"
   ]
  },
  {
   "cell_type": "code",
   "execution_count": null,
   "id": "7cd36197",
   "metadata": {},
   "outputs": [],
   "source": [
    "a=load_pickle(\"wiki_scrap_clean.pickle\")"
   ]
  },
  {
   "cell_type": "code",
   "execution_count": null,
   "id": "b36426a9",
   "metadata": {},
   "outputs": [],
   "source": [
    "a[1]"
   ]
  },
  {
   "cell_type": "markdown",
   "id": "adb8743f",
   "metadata": {},
   "source": [
    "# 4. 3rd party ratings"
   ]
  },
  {
   "cell_type": "code",
   "execution_count": null,
   "id": "2ed8363b",
   "metadata": {},
   "outputs": [],
   "source": [
    "movie_info_list=load_pickle(\"wiki_scrap_clean.pickle\")"
   ]
  },
  {
   "cell_type": "code",
   "execution_count": null,
   "id": "45779083",
   "metadata": {},
   "outputs": [],
   "source": [
    "movie_info_list[-170]"
   ]
  },
  {
   "cell_type": "code",
   "execution_count": null,
   "id": "cd232a64",
   "metadata": {},
   "outputs": [],
   "source": [
    "# http://www.omdbapi.com/?apikey=[yourkey]&"
   ]
  },
  {
   "cell_type": "code",
   "execution_count": null,
   "id": "f68e5252",
   "metadata": {},
   "outputs": [],
   "source": [
    "import requests\n",
    "import urllib\n",
    "\n",
    "def get_omdb(title):\n",
    "    base_url=\"http://www.omdbapi.com/?\"\n",
    "    params={'t':title,\"apikey\": '9f97ffc'} #add your own api key\n",
    "    params_encoded=urllib.parse.urlencode(params)\n",
    "    \n",
    "    full_url=base_url+params_encoded\n",
    "#     print(full_url)\n",
    "    \n",
    "    return requests.get(full_url).json()\n",
    "\n",
    "def get_rotten_score(omdb_info):\n",
    "    ratings=omdb_info.get(\"Ratings\",[])\n",
    "    for rating in ratings:\n",
    "        if rating[\"Source\"]=='Rotten Tomatoes':\n",
    "            return rating['Value']\n",
    "    return None\n",
    "\n",
    "get_omdb('pathaan')"
   ]
  },
  {
   "cell_type": "code",
   "execution_count": null,
   "id": "857d2862",
   "metadata": {},
   "outputs": [],
   "source": [
    "for movie in movie_info_list:\n",
    "    title=movie['title']\n",
    "    omdb_info=get_omdb(title)\n",
    "    movie['imdb']=omdb_info.get('imdbRating', None)\n",
    "    movie['rotten_tomatoes']=get_rotten_score(omdb_info)\n",
    "    movie['metascore']=omdb_info.get(\"Metascore\", None)\n",
    "    "
   ]
  },
  {
   "cell_type": "code",
   "execution_count": null,
   "id": "a1840667",
   "metadata": {},
   "outputs": [],
   "source": [
    "movie_info_list[4]"
   ]
  },
  {
   "cell_type": "code",
   "execution_count": null,
   "id": "f139b180",
   "metadata": {},
   "outputs": [],
   "source": [
    "save_pickle(\"wiki_scrap_final.pickle\", movie_info_list)"
   ]
  },
  {
   "cell_type": "markdown",
   "id": "a0920d3c",
   "metadata": {},
   "source": [
    "# 5. Save Dataset"
   ]
  },
  {
   "cell_type": "code",
   "execution_count": null,
   "id": "a8e59f54",
   "metadata": {},
   "outputs": [],
   "source": [
    "movie_info_cp=[movie.copy() for movie in movie_info_list]"
   ]
  },
  {
   "cell_type": "code",
   "execution_count": null,
   "id": "5e6eab90",
   "metadata": {},
   "outputs": [],
   "source": [
    "#converting datetime to string for storing in json\n",
    "for movie in movie_info_cp:\n",
    "    curr_date=movie['Release date (datetime)']\n",
    "    if curr_date:\n",
    "        movie['Release date (datetime)']=curr_date.strftime(\"%B %d, %Y\")\n",
    "    else:\n",
    "        movie['Release date (datetime)']=None"
   ]
  },
  {
   "cell_type": "code",
   "execution_count": null,
   "id": "13ec3310",
   "metadata": {},
   "outputs": [],
   "source": [
    "movie_info_cp[269]"
   ]
  },
  {
   "cell_type": "code",
   "execution_count": null,
   "id": "af66b217",
   "metadata": {},
   "outputs": [],
   "source": [
    "save_data(\"wiki_scrap_final.json\", movie_info_cp)"
   ]
  },
  {
   "cell_type": "code",
   "execution_count": null,
   "id": "4e488c60",
   "metadata": {},
   "outputs": [],
   "source": [
    "#csv\n",
    "\n",
    "import pandas as pd\n",
    "\n",
    "df=pd.DataFrame(movie_info_list)\n"
   ]
  },
  {
   "cell_type": "code",
   "execution_count": null,
   "id": "371b4a2e",
   "metadata": {},
   "outputs": [],
   "source": [
    "df.head()"
   ]
  },
  {
   "cell_type": "code",
   "execution_count": null,
   "id": "e571ca17",
   "metadata": {},
   "outputs": [],
   "source": [
    "df.to_csv(\"wiki_scrap_final.csv\")"
   ]
  },
  {
   "cell_type": "code",
   "execution_count": null,
   "id": "53381a0a",
   "metadata": {},
   "outputs": [],
   "source": [
    "running_times=df.sort_values([\"Running time (int)\"], ascending=False)\n",
    "running_times.head(10)"
   ]
  },
  {
   "cell_type": "code",
   "execution_count": null,
   "id": "d08777e0",
   "metadata": {},
   "outputs": [],
   "source": []
  }
 ],
 "metadata": {
  "kernelspec": {
   "display_name": "Python 3 (ipykernel)",
   "language": "python",
   "name": "python3"
  },
  "language_info": {
   "codemirror_mode": {
    "name": "ipython",
    "version": 3
   },
   "file_extension": ".py",
   "mimetype": "text/x-python",
   "name": "python",
   "nbconvert_exporter": "python",
   "pygments_lexer": "ipython3",
   "version": "3.11.2"
  }
 },
 "nbformat": 4,
 "nbformat_minor": 5
}
